{
 "cells": [
  {
   "cell_type": "markdown",
   "metadata": {},
   "source": [
    "# Speed Comparisons between the Numpy an TF implementations of the DTCWT\n",
    "Operations were performed on a system with a GTX 1080 GPU and Intel Xeon CPU E5-2660 CPU"
   ]
  },
  {
   "cell_type": "code",
   "execution_count": null,
   "metadata": {},
   "outputs": [],
   "source": [
    "%matplotlib inline\n",
    "import matplotlib.pyplot as plt\n",
    "import datasets\n",
    "import dtcwt\n",
    "import dtcwt.tf\n",
    "import tensorflow as tf\n",
    "from time import time\n",
    "import numpy as np\n",
    "import os\n",
    "import py3nvml\n",
    "plt.style.use('seaborn')\n",
    "py3nvml.grab_gpus(1);"
   ]
  },
  {
   "cell_type": "markdown",
   "metadata": {},
   "source": [
    "# Analysis of Small Images"
   ]
  },
  {
   "cell_type": "markdown",
   "metadata": {},
   "source": [
    "## DTCWT on a single small image (64x64)"
   ]
  },
  {
   "cell_type": "code",
   "execution_count": null,
   "metadata": {},
   "outputs": [],
   "source": [
    "# Create the input\n",
    "h, w = 64, 64\n",
    "in_ = np.random.randn(1,h,w)\n",
    "\n",
    "# Set up the transforms\n",
    "nlevels = 3\n",
    "tf.reset_default_graph()\n",
    "fwd = dtcwt.Transform2d()        # Numpy Transform\n",
    "fwd_tf = dtcwt.tf.Transform2d()  # Tensorflow Transform\n",
    "\n",
    "in_placeholder = tf.placeholder(tf.float32, [None, h, w])\n",
    "out_tf = fwd_tf.forward(in_placeholder, nlevels=nlevels)\n",
    "out_fft = tf.fft2d(tf.cast(in_placeholder, tf.complex64))\n",
    "\n",
    "sess = tf.Session()\n",
    "sess.run(tf.global_variables_initializer())"
   ]
  },
  {
   "cell_type": "markdown",
   "metadata": {},
   "source": [
    "### Numpy Implementation"
   ]
  },
  {
   "cell_type": "code",
   "execution_count": null,
   "metadata": {},
   "outputs": [
    {
     "name": "stdout",
     "output_type": "stream",
     "text": [
      "5.63 ms ± 592 µs per loop (mean ± std. dev. of 7 runs, 100 loops each)\n"
     ]
    }
   ],
   "source": [
    "small_np = %timeit -o for i in in_: fwd.forward(i, nlevels=nlevels)"
   ]
  },
  {
   "cell_type": "markdown",
   "metadata": {},
   "source": [
    "### TF implementation"
   ]
  },
  {
   "cell_type": "code",
   "execution_count": null,
   "metadata": {},
   "outputs": [
    {
     "name": "stdout",
     "output_type": "stream",
     "text": [
      "2.26 ms ± 444 µs per loop (mean ± std. dev. of 7 runs, 1 loop each)\n"
     ]
    }
   ],
   "source": [
    "small_tf = %timeit -o sess.run(out_tf.lowpass_op, {in_placeholder: in_})"
   ]
  },
  {
   "cell_type": "markdown",
   "metadata": {},
   "source": [
    "### (Comparison) Using an FFT in Tensorflow\n",
    "We can safely assume that something like the FFT is an optimized, fast operation to do. This is a good yardstick to gauge the overheads with working on a GPU"
   ]
  },
  {
   "cell_type": "code",
   "execution_count": null,
   "metadata": {},
   "outputs": [
    {
     "name": "stdout",
     "output_type": "stream",
     "text": [
      "3.82 ms ± 68.2 µs per loop (mean ± std. dev. of 7 runs, 1 loop each)\n"
     ]
    }
   ],
   "source": [
    "%timeit sess.run(out_fft, {in_placeholder: in_})"
   ]
  },
  {
   "cell_type": "markdown",
   "metadata": {},
   "source": [
    "## DTCWT on a batch of small images (100x64x64)"
   ]
  },
  {
   "cell_type": "code",
   "execution_count": null,
   "metadata": {},
   "outputs": [],
   "source": [
    "in_ = np.random.randn(100,h,w)"
   ]
  },
  {
   "cell_type": "markdown",
   "metadata": {},
   "source": [
    "### Numpy Implementation"
   ]
  },
  {
   "cell_type": "code",
   "execution_count": null,
   "metadata": {},
   "outputs": [
    {
     "name": "stdout",
     "output_type": "stream",
     "text": [
      "642 ms ± 68.7 ms per loop (mean ± std. dev. of 7 runs, 1 loop each)\n"
     ]
    }
   ],
   "source": [
    "small_np_batch = %timeit -o for i in in_: fwd.forward(i, nlevels=nlevels)"
   ]
  },
  {
   "cell_type": "markdown",
   "metadata": {},
   "source": [
    "### TF implementation"
   ]
  },
  {
   "cell_type": "code",
   "execution_count": null,
   "metadata": {},
   "outputs": [
    {
     "name": "stdout",
     "output_type": "stream",
     "text": [
      "2.77 ms ± 126 µs per loop (mean ± std. dev. of 7 runs, 100 loops each)\n"
     ]
    }
   ],
   "source": [
    "small_tf_batch = %timeit -o sess.run(out_tf.lowpass_op, {in_placeholder: in_})"
   ]
  },
  {
   "cell_type": "markdown",
   "metadata": {},
   "source": [
    "### (Comparison) Using an FFT in Tensorflow"
   ]
  },
  {
   "cell_type": "code",
   "execution_count": null,
   "metadata": {},
   "outputs": [
    {
     "name": "stdout",
     "output_type": "stream",
     "text": [
      "6.53 ms ± 439 µs per loop (mean ± std. dev. of 7 runs, 100 loops each)\n"
     ]
    }
   ],
   "source": [
    "%timeit sess.run(out_fft, {in_placeholder: in_})"
   ]
  },
  {
   "cell_type": "markdown",
   "metadata": {},
   "source": [
    "## Small Image Conclusion"
   ]
  },
  {
   "cell_type": "code",
   "execution_count": null,
   "metadata": {},
   "outputs": [
    {
     "data": {
      "image/png": "[encoded data removed]",
      "text/plain": [
       "<matplotlib.figure.Figure at 0x7f3e3e9d8d68>"
      ]
     },
     "metadata": {},
     "output_type": "display_data"
    }
   ],
   "source": [
    "objects = ('np single', 'tf single', 'np batch', 'tf batch')\n",
    "y_pos = np.arange(len(objects))\n",
    "performance = [small_np.average, small_tf.average, small_np_batch.average, small_tf_batch.average]\n",
    "performance = [i*1000 for i in performance]\n",
    "fig, ax = plt.subplots(1, figsize=(8,8))\n",
    "ax.bar(y_pos, performance, align='center', alpha=0.5, color=['red', 'blue'])\n",
    "plt.xticks(y_pos, objects)\n",
    "plt.ylabel('Time (ms)')\n",
    "plt.title('Times to perform DTCWT on small images')\n",
    "plt.show()"
   ]
  },
  {
   "cell_type": "markdown",
   "metadata": {},
   "source": [
    "# Analysis of Large Images"
   ]
  },
  {
   "cell_type": "markdown",
   "metadata": {},
   "source": [
    "## DTCWT on a single large image (512x512)"
   ]
  },
  {
   "cell_type": "code",
   "execution_count": null,
   "metadata": {},
   "outputs": [],
   "source": [
    "# Create the input\n",
    "h, w = 512, 512\n",
    "in_ = np.random.randn(1,h,w)\n",
    "\n",
    "# Set up the transforms\n",
    "nlevels = 3\n",
    "tf.reset_default_graph()\n",
    "fwd = dtcwt.Transform2d()        # Numpy Transform\n",
    "fwd_tf = dtcwt.tf.Transform2d()  # Tensorflow Transform\n",
    "\n",
    "in_placeholder = tf.placeholder(tf.float32, [None, h, w])\n",
    "out_tf = fwd_tf.forward(in_placeholder, nlevels=nlevels)\n",
    "out_fft = tf.fft2d(tf.cast(in_placeholder, tf.complex64))\n",
    "\n",
    "sess = tf.Session()\n",
    "sess.run(tf.global_variables_initializer())"
   ]
  },
  {
   "cell_type": "markdown",
   "metadata": {},
   "source": [
    "### Numpy Implementation"
   ]
  },
  {
   "cell_type": "code",
   "execution_count": null,
   "metadata": {},
   "outputs": [
    {
     "name": "stdout",
     "output_type": "stream",
     "text": [
      "57.3 ms ± 5.27 ms per loop (mean ± std. dev. of 7 runs, 10 loops each)\n"
     ]
    }
   ],
   "source": [
    "large_np = %timeit -o for i in in_: fwd.forward(i, nlevels=nlevels)"
   ]
  },
  {
   "cell_type": "markdown",
   "metadata": {},
   "source": [
    "### TF implementation"
   ]
  },
  {
   "cell_type": "code",
   "execution_count": null,
   "metadata": {},
   "outputs": [
    {
     "name": "stdout",
     "output_type": "stream",
     "text": [
      "2.39 ms ± 109 µs per loop (mean ± std. dev. of 7 runs, 100 loops each)\n"
     ]
    }
   ],
   "source": [
    "large_tf = %timeit -o sess.run(out_tf.lowpass_op, {in_placeholder: in_})"
   ]
  },
  {
   "cell_type": "markdown",
   "metadata": {},
   "source": [
    "### (Comparison) Using an FFT in Tensorflow"
   ]
  },
  {
   "cell_type": "code",
   "execution_count": null,
   "metadata": {},
   "outputs": [
    {
     "name": "stdout",
     "output_type": "stream",
     "text": [
      "6.19 ms ± 325 µs per loop (mean ± std. dev. of 7 runs, 100 loops each)\n"
     ]
    }
   ],
   "source": [
    "%timeit sess.run(out_fft, {in_placeholder: in_})"
   ]
  },
  {
   "cell_type": "markdown",
   "metadata": {},
   "source": [
    "## DTCWT on a batch of large images (100x512x512)\n",
    "Batches are something tensorflow naturally handles. This should widen the gap as we only have to copy data to the GPU once for multiple images"
   ]
  },
  {
   "cell_type": "code",
   "execution_count": null,
   "metadata": {},
   "outputs": [],
   "source": [
    "in_ = np.random.randn(100,512,512)"
   ]
  },
  {
   "cell_type": "markdown",
   "metadata": {},
   "source": [
    "### Numpy Implementation"
   ]
  },
  {
   "cell_type": "code",
   "execution_count": null,
   "metadata": {},
   "outputs": [
    {
     "name": "stdout",
     "output_type": "stream",
     "text": [
      "5.44 s ± 189 ms per loop (mean ± std. dev. of 7 runs, 1 loop each)\n"
     ]
    }
   ],
   "source": [
    "large_np_batch = %timeit -o for i in in_: fwd.forward(i, nlevels=nlevels).lowpass"
   ]
  },
  {
   "cell_type": "markdown",
   "metadata": {},
   "source": [
    "### TF implementation"
   ]
  },
  {
   "cell_type": "code",
   "execution_count": null,
   "metadata": {},
   "outputs": [
    {
     "name": "stdout",
     "output_type": "stream",
     "text": [
      "124 ms ± 4.32 ms per loop (mean ± std. dev. of 7 runs, 1 loop each)\n"
     ]
    }
   ],
   "source": [
    "large_tf_batch = %timeit -o  sess.run(out_tf.lowpass_op, {in_placeholder: in_})"
   ]
  },
  {
   "cell_type": "markdown",
   "metadata": {},
   "source": [
    "### (Comparison) Using an FFT in Tensorflow"
   ]
  },
  {
   "cell_type": "code",
   "execution_count": null,
   "metadata": {},
   "outputs": [
    {
     "name": "stdout",
     "output_type": "stream",
     "text": [
      "113 ms ± 2.6 ms per loop (mean ± std. dev. of 7 runs, 1 loop each)\n"
     ]
    }
   ],
   "source": [
    "%timeit sess.run(out_fft, {in_placeholder: in_})"
   ]
  },
  {
   "cell_type": "markdown",
   "metadata": {},
   "source": [
    "## DTCWT on a batch of large images with a convolution afterwards\n",
    "This again should widen the gap, as having already calculated something on the GPU, we don't need to transfer the data there again"
   ]
  },
  {
   "cell_type": "code",
   "execution_count": null,
   "metadata": {},
   "outputs": [],
   "source": [
    "h, w = 512, 512\n",
    "in_ = np.random.randn(100, h, w)"
   ]
  },
  {
   "cell_type": "markdown",
   "metadata": {},
   "source": [
    "### Numpy Implementation"
   ]
  },
  {
   "cell_type": "code",
   "execution_count": null,
   "metadata": {},
   "outputs": [],
   "source": [
    "fwd = dtcwt.Transform2d()\n",
    "tf.reset_default_graph()\n",
    "sess = tf.Session()\n",
    "highs = tf.placeholder(tf.float32, [None, h>>3, w>>3, 6])\n",
    "weights = tf.get_variable('weights', shape=(5,5,6,64))\n",
    "step = tf.nn.conv2d(highs, weights, strides=[1,1,1,1], padding='SAME')\n",
    "sess.run(tf.global_variables_initializer())"
   ]
  },
  {
   "cell_type": "code",
   "execution_count": null,
   "metadata": {},
   "outputs": [
    {
     "name": "stdout",
     "output_type": "stream",
     "text": [
      "5.7 s ± 139 ms per loop (mean ± std. dev. of 7 runs, 1 loop each)\n"
     ]
    }
   ],
   "source": [
    "large_np_conv = %timeit -o sess.run(step, {highs: [abs(fwd.forward(i, nlevels=3).highpasses[2]) for i in in_]})"
   ]
  },
  {
   "cell_type": "markdown",
   "metadata": {},
   "source": [
    "### TF Implementation"
   ]
  },
  {
   "cell_type": "code",
   "execution_count": null,
   "metadata": {},
   "outputs": [],
   "source": [
    "tf.reset_default_graph()\n",
    "in_placeholder = tf.placeholder(tf.float32, [None, h, w])\n",
    "fwd_tf = dtcwt.tf.Transform2d() \n",
    "out_tf = fwd_tf.forward(in_placeholder, nlevels=3)\n",
    "p = tf.abs(out_tf.highpasses_ops[2])\n",
    "weights = tf.get_variable('weights', shape=(5,5,6,64))\n",
    "out = tf.nn.conv2d(p, weights, strides=[1,1,1,1], padding='SAME')\n",
    "sess = tf.Session()\n",
    "sess.run(tf.global_variables_initializer())"
   ]
  },
  {
   "cell_type": "code",
   "execution_count": null,
   "metadata": {},
   "outputs": [
    {
     "name": "stdout",
     "output_type": "stream",
     "text": [
      "143 ms ± 1.61 ms per loop (mean ± std. dev. of 7 runs, 10 loops each)\n"
     ]
    }
   ],
   "source": [
    "large_tf_conv = %timeit -o sess.run(out, {in_placeholder: in_})"
   ]
  },
  {
   "cell_type": "markdown",
   "metadata": {},
   "source": [
    "# Running DTCWT with TF backend on a CPU\n",
    "Perhaps there is still a speed-up when using a CPU and tensorflow?"
   ]
  },
  {
   "cell_type": "code",
   "execution_count": null,
   "metadata": {},
   "outputs": [
    {
     "name": "stdout",
     "output_type": "stream",
     "text": [
      "12.8 ms ± 389 µs per loop (mean ± std. dev. of 7 runs, 100 loops each)\n"
     ]
    }
   ],
   "source": [
    "# Create the input\n",
    "h, w = 512, 512\n",
    "in_ = np.random.randn(1,h,w)\n",
    "\n",
    "# Set up the transforms\n",
    "nlevels = 3\n",
    "tf.reset_default_graph()\n",
    "with tf.device(\"/cpu:0\"):\n",
    "    fwd_tf = dtcwt.tf.Transform2d()  # Tensorflow Transform\n",
    "    in_placeholder = tf.placeholder(tf.float32, [None, h, w])\n",
    "    out_tf = fwd_tf.forward(in_placeholder, nlevels=nlevels)\n",
    "\n",
    "sess = tf.Session()\n",
    "sess.run(tf.global_variables_initializer())\n",
    "large_tf_cpu = %timeit -o  sess.run(out_tf.lowpass_op, {in_placeholder: in_})"
   ]
  },
  {
   "cell_type": "code",
   "execution_count": null,
   "metadata": {},
   "outputs": [
    {
     "name": "stdout",
     "output_type": "stream",
     "text": [
      "516 ms ± 17.8 ms per loop (mean ± std. dev. of 7 runs, 1 loop each)\n"
     ]
    }
   ],
   "source": [
    "in_ = np.random.randn(100,h,w)\n",
    "large_tf_batch_cpu = %timeit -o  sess.run(out_tf.lowpass_op, {in_placeholder: in_})"
   ]
  },
  {
   "cell_type": "code",
   "execution_count": null,
   "metadata": {},
   "outputs": [
    {
     "name": "stdout",
     "output_type": "stream",
     "text": [
      "610 ms ± 27.5 ms per loop (mean ± std. dev. of 7 runs, 1 loop each)\n"
     ]
    }
   ],
   "source": [
    "tf.reset_default_graph()\n",
    "with tf.device(\"/cpu:0\"):\n",
    "    in_placeholder = tf.placeholder(tf.float32, [None, h, w])\n",
    "    fwd_tf = dtcwt.tf.Transform2d() \n",
    "    out_tf = fwd_tf.forward(in_placeholder, nlevels=3)\n",
    "    p = tf.abs(out_tf.highpasses_ops[2])\n",
    "    weights = tf.get_variable('weights', shape=(5,5,6,64))\n",
    "    out = tf.nn.conv2d(p, weights, strides=[1,1,1,1], padding='SAME')\n",
    "sess = tf.Session()\n",
    "sess.run(tf.global_variables_initializer())\n",
    "large_tf_conv_cpu = %timeit -o sess.run(out, {in_placeholder: in_})"
   ]
  },
  {
   "cell_type": "markdown",
   "metadata": {},
   "source": [
    "# Large Image Conclusion"
   ]
  },
  {
   "cell_type": "code",
   "execution_count": null,
   "metadata": {},
   "outputs": [
    {
     "data": {
      "image/png": "[encoded data removed]",
      "text/plain": [
       "<matplotlib.figure.Figure at 0x7f3dec478208>"
      ]
     },
     "metadata": {},
     "output_type": "display_data"
    }
   ],
   "source": [
    "objects = ('np one img', 'tf one img\\n(gpu)', 'tf one img\\n(cpu)', 'np batch', 'tf batch\\n(gpu)', \n",
    "           'tf batch\\n(cpu)', 'np batch\\n+conv', 'tf batch\\n+conv\\n(gpu)', 'tf batch\\n+conv\\n(cpu)')\n",
    "y_pos = np.arange(len(objects))\n",
    "performance = [large_np.average, large_tf.average, large_tf_cpu.average, \n",
    "               large_np_batch.average, large_tf_batch.average, large_tf_batch_cpu.average,\n",
    "               large_np_conv.average, large_tf_conv.average, large_tf_conv_cpu.average]\n",
    "performance = [i*1000 for i in performance]\n",
    "fig, ax = plt.subplots(1, figsize=(12,12))\n",
    "ax.bar(y_pos, performance, align='center', alpha=0.5, color=['red', 'blue', 'green'])\n",
    "plt.xticks(y_pos, objects)\n",
    "plt.ylabel('Time (ms)')\n",
    "plt.title('Times to perform different DTCWT operations on large images')\n",
    "plt.show()"
   ]
  },
  {
   "cell_type": "markdown",
   "metadata": {},
   "source": [
    "# Comparison to Convolutions\n",
    "One important distinguising feature that would be nice would be to see a speed-up in using the dtcwt over using convolutions."
   ]
  },
  {
   "cell_type": "markdown",
   "metadata": {},
   "source": [
    "## First we can compare execution time on a CPU"
   ]
  },
  {
   "cell_type": "code",
   "execution_count": null,
   "metadata": {},
   "outputs": [],
   "source": [
    "session_conf = tf.ConfigProto(\n",
    "      intra_op_parallelism_threads=1,\n",
    "      inter_op_parallelism_threads=1,\n",
    "      device_count={'CPU': 1})"
   ]
  },
  {
   "cell_type": "code",
   "execution_count": null,
   "metadata": {},
   "outputs": [
    {
     "name": "stdout",
     "output_type": "stream",
     "text": [
      "2.2268359661102295\n"
     ]
    }
   ],
   "source": [
    "# Create the input\n",
    "h, w = 512, 512\n",
    "in_ = np.random.randn(100,h,w,3)\n",
    "\n",
    "# Set up the transforms\n",
    "nlevels = 3\n",
    "tf.reset_default_graph()\n",
    "with tf.device(\"/cpu:0\"):\n",
    "    fwd_tf = dtcwt.tf.Transform2d()  # Tensorflow Transform\n",
    "    in_placeholder = tf.placeholder(tf.float32, [None, h, w, 3])\n",
    "    Yl, Yh = fwd_tf.forward_channels(in_placeholder, nlevels=nlevels)\n",
    "\n",
    "sess = tf.Session(config=session_conf)\n",
    "sess.run(tf.global_variables_initializer())\n",
    "\n",
    "start = time.time()\n",
    "#dtcwt_cpu = %timeit -o  sess.run(Yl, {in_placeholder: in_})\n",
    "sess.run(Yl, {in_placeholder: in_})\n",
    "print(time.time()-start)"
   ]
  },
  {
   "cell_type": "code",
   "execution_count": null,
   "metadata": {},
   "outputs": [
    {
     "name": "stdout",
     "output_type": "stream",
     "text": [
      "6.17 s ± 150 ms per loop (mean ± std. dev. of 7 runs, 1 loop each)\n"
     ]
    }
   ],
   "source": [
    "# Hard to say what an equivalent is? Let us compare to a single layer with 5x5x3x64\n",
    "h, w = 512, 512\n",
    "in_ = np.random.randn(100,h,w,3)\n",
    "\n",
    "# Set up the transforms\n",
    "nlevels = 3\n",
    "tf.reset_default_graph()\n",
    "with tf.device(\"/cpu:0\"):\n",
    "    in_placeholder = tf.placeholder(tf.float32, [None, h, w, 3])\n",
    "    weights = tf.get_variable('weights', shape=(10,10,3,64))\n",
    "    out = tf.nn.conv2d(in_placeholder, weights, strides=[1,1,1,1], padding='SAME')\n",
    "\n",
    "sess = tf.Session(config=session_conf)\n",
    "sess.run(tf.global_variables_initializer())\n",
    "dtcwt_cpu = %timeit -o  sess.run(out, {in_placeholder: in_})"
   ]
  },
  {
   "cell_type": "code",
   "execution_count": null,
   "metadata": {},
   "outputs": [],
   "source": []
  }
 ],
 "metadata": {
  "kernelspec": {
   "display_name": "Python 3",
   "language": "python",
   "name": "python3"
  },
  "language_info": {
   "codemirror_mode": {
    "name": "ipython",
    "version": 3
   },
   "file_extension": ".py",
   "mimetype": "text/x-python",
   "name": "python",
   "nbconvert_exporter": "python",
   "pygments_lexer": "ipython3"
  },
  "toc": {
   "colors": {
    "hover_highlight": "#DAA520",
    "navigate_num": "#000000",
    "navigate_text": "#333333",
    "running_highlight": "#FF0000",
    "selected_highlight": "#FFD700",
    "sidebar_border": "#EEEEEE",
    "wrapper_background": "#FFFFFF"
   },
   "moveMenuLeft": true,
   "nav_menu": {
    "height": "12px",
    "width": "252px"
   },
   "navigate_menu": true,
   "number_sections": true,
   "sideBar": true,
   "threshold": 4,
   "toc_cell": false,
   "toc_section_display": "block",
   "toc_window_display": false,
   "widenNotebook": false
  }
 },
 "nbformat": 4,
 "nbformat_minor": 2
}
